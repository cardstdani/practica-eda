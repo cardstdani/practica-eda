{
  "nbformat": 4,
  "nbformat_minor": 0,
  "metadata": {
    "colab": {
      "provenance": [],
      "private_outputs": true,
      "authorship_tag": "ABX9TyN3Mhs19WxrMIDm4yKdB7re",
      "include_colab_link": true
    },
    "kernelspec": {
      "name": "python3",
      "display_name": "Python 3"
    },
    "language_info": {
      "name": "python"
    }
  },
  "cells": [
    {
      "cell_type": "markdown",
      "metadata": {
        "id": "view-in-github",
        "colab_type": "text"
      },
      "source": [
        "<a href=\"https://colab.research.google.com/github/cardstdani/practica-eda/blob/main/NotebookEDA.ipynb\" target=\"_parent\"><img src=\"https://colab.research.google.com/assets/colab-badge.svg\" alt=\"Open In Colab\"/></a>"
      ]
    },
    {
      "cell_type": "markdown",
      "source": [
        "**Práctica 1**"
      ],
      "metadata": {
        "id": "osqevwI0xkWl"
      }
    },
    {
      "cell_type": "code",
      "source": [
        "!nvidia-smi"
      ],
      "metadata": {
        "id": "bRuBRvs6NeRO"
      },
      "execution_count": null,
      "outputs": []
    },
    {
      "cell_type": "code",
      "source": [
        "import random\n",
        "import time\n",
        "import matplotlib.pyplot as plt\n",
        "import concurrent.futures"
      ],
      "metadata": {
        "id": "5I-_J72_3SIj"
      },
      "execution_count": null,
      "outputs": []
    },
    {
      "cell_type": "code",
      "execution_count": null,
      "metadata": {
        "id": "QG-pb_izxgEs"
      },
      "outputs": [],
      "source": [
        "class CeldaSimple:\n",
        "    def __init__(self):\n",
        "        self.grid = None\n",
        "        self.visited = None\n",
        "        self.iterations = 0\n",
        "\n",
        "    def Inicializar(self, n):\n",
        "        self.grid = [[False] * n for _ in range(n)]\n",
        "        self.visited = [[False] * n for _ in range(n)]\n",
        "\n",
        "    def RayoCosmico(self, i, j):\n",
        "        if not self.grid[i][j]:\n",
        "            self.grid[i][j] = True\n",
        "        self.iterations += 1\n",
        "\n",
        "    def helper(self, i, j):\n",
        "        if i == (len(self.grid) - 1):\n",
        "            return True\n",
        "        self.visited[i][j] = True\n",
        "        nei = [\n",
        "            [max(0, i - 1), j], [min(len(self.grid) - 1, i + 1), j],\n",
        "            [i, max(0, j - 1)], [i, min(len(self.grid[0]) - 1, j + 1)],\n",
        "            [max(0, i - 1), max(0, j - 1)],\n",
        "            [min(len(self.grid) - 1, i + 1), min(len(self.grid[0]) - 1, j + 1)],\n",
        "            [max(0, i - 1), min(len(self.grid[0]) - 1, j + 1)],\n",
        "            [min(len(self.grid) - 1, i + 1), max(0, j - 1)]\n",
        "        ]\n",
        "\n",
        "        for k in nei:\n",
        "            if not self.visited[k[0]][k[1]] and self.grid[k[0]][k[1]]:\n",
        "                if self.helper(k[0], k[1]):\n",
        "                    return True\n",
        "        return False\n",
        "\n",
        "    def Cortocircuito(self):\n",
        "        for i in range(len(self.grid)):\n",
        "            for j in range(len(self.grid[0])):\n",
        "                self.visited[i][j] = False\n",
        "\n",
        "        for i in range(len(self.grid[0])):\n",
        "            if self.grid[0][i]:\n",
        "                if self.helper(0, i):\n",
        "                    return True\n",
        "        return False\n",
        "\n",
        "    def __str__(self):\n",
        "        out = \"\"\n",
        "\n",
        "        for i in range(len(self.grid)):\n",
        "            for j in range(len(self.grid[0])):\n",
        "                out += \"X\" if self.grid[i][j] else \".\"\n",
        "                if j < len(self.grid[0]) - 1:\n",
        "                    out += \" \"\n",
        "            out += \"\\n\"\n",
        "\n",
        "        return out\n",
        "\n",
        "SEMILLA = 42\n",
        "def main():\n",
        "    random.seed(SEMILLA)\n",
        "    print(\"¿Validación? [S/N] \", end='')\n",
        "    validar = input().strip().upper().startswith('S')\n",
        "    print(\"Tamaño (n) = \", end='')\n",
        "    n = int(input())\n",
        "    num_rep = 1\n",
        "    if not validar:\n",
        "        print(\"Repeticiones = \", end='')\n",
        "        num_rep = int(input())\n",
        "\n",
        "    celda = CeldaSimple()\n",
        "    tpo_total = 0\n",
        "    num_rayos = 0\n",
        "\n",
        "    for k in range(num_rep):\n",
        "        # Simulación\n",
        "        celda.Inicializar(n)\n",
        "        num_rayos = 0\n",
        "        tpo1 = time.perf_counter()\n",
        "        while not celda.Cortocircuito():\n",
        "            # Elegir átomo al azar y transmutarlo\n",
        "            celda.RayoCosmico(random.randint(0, n - 1), random.randint(0, n - 1))\n",
        "            num_rayos += 1\n",
        "        tpo2 = time.perf_counter()\n",
        "        tpo_total += tpo2 - tpo1\n",
        "        print(\"#\", end='')\n",
        "\n",
        "    print(\"\\nTiempo medio = {:.5f}\".format(tpo_total / num_rep))\n",
        "\n",
        "    if validar:\n",
        "        print(\"Número de rayos =\", num_rayos)\n",
        "        print(celda)\n",
        "\n",
        "if __name__ == \"__main__\":\n",
        "    main()"
      ]
    },
    {
      "cell_type": "markdown",
      "source": [
        "**Simulación específica**"
      ],
      "metadata": {
        "id": "aJvheVKzCVlG"
      }
    },
    {
      "cell_type": "code",
      "source": [
        "celda = CeldaSimple()\n",
        "y = []\n",
        "n = 7\n",
        "\n",
        "random.seed()\n",
        "for k in range(10000):\n",
        "    celda.Inicializar(n)\n",
        "    num_rayos = 0\n",
        "    while not celda.Cortocircuito():\n",
        "        # Elegir átomo al azar y transmutarlo\n",
        "        celda.RayoCosmico(random.randint(0, n - 1), random.randint(0, n - 1))\n",
        "        num_rayos += 1\n",
        "    #print(num_rayos)\n",
        "    y.append(num_rayos)\n",
        "\n",
        "plt.hist(y, edgecolor='black')\n",
        "plt.title('Distribution of num_rayos')\n",
        "plt.xlabel('num_rayos')\n",
        "plt.ylabel('Frequency')\n",
        "plt.show()\n",
        "print(sorted(y)[-10:])"
      ],
      "metadata": {
        "id": "_AKtGfdpCVLS"
      },
      "execution_count": null,
      "outputs": []
    },
    {
      "cell_type": "code",
      "source": [
        "from itertools import combinations\n",
        "from collections import deque\n",
        "\n",
        "# Tamaño de la malla\n",
        "n = 5\n",
        "# Número de celdas a colorear\n",
        "n_prime = 5\n",
        "\n",
        "# Generar todas las posiciones posibles en la malla\n",
        "positions = [(i, j) for i in range(n) for j in range(n)]\n",
        "\n",
        "# Función para verificar si existe un camino desde arriba hasta abajo\n",
        "def has_path(grid, start):\n",
        "    \"\"\"\n",
        "    Utiliza DFS para verificar si existe un camino desde la fila superior\n",
        "    hasta la fila inferior en la malla dada.\n",
        "    \"\"\"\n",
        "    stack = deque([start])\n",
        "    visited = set([start])\n",
        "\n",
        "    while stack:\n",
        "        i, j = stack.pop()\n",
        "        if i == n - 1:\n",
        "            return True\n",
        "\n",
        "        for x, y in [(i-1, j), (i+1, j), (i, j-1), (i, j+1)]:\n",
        "            if (0 <= x < n and 0 <= y < n and\n",
        "                grid[x][y] == 1 and (x, y) not in visited):\n",
        "                stack.append((x, y))\n",
        "                visited.add((x, y))\n",
        "    return False\n",
        "\n",
        "# Contadores para las combinaciones totales y las combinaciones con un camino\n",
        "total_combinations = 0\n",
        "combinations_with_path = 0\n",
        "for black_cells in combinations(positions, n_prime):\n",
        "    grid = [[0] * n for _ in range(n)]\n",
        "\n",
        "    # Colorear las celdas seleccionadas\n",
        "    for i, j in black_cells:\n",
        "        grid[i][j] = 1\n",
        "\n",
        "    # Verificar si existe un camino para cada celda coloreada en la fila superior\n",
        "    if any(has_path(grid, (0, j)) for j in range(n) if grid[0][j] == 1):\n",
        "        combinations_with_path += 1\n",
        "    total_combinations += 1\n",
        "print(total_combinations, combinations_with_path, combinations_with_path / total_combinations)"
      ],
      "metadata": {
        "id": "Lvc1ONTTnT53"
      },
      "execution_count": null,
      "outputs": []
    },
    {
      "cell_type": "markdown",
      "source": [
        "**Medidas Tiempo**"
      ],
      "metadata": {
        "id": "Y9S2WgpO2r9u"
      }
    },
    {
      "cell_type": "code",
      "source": [
        "with open('t_values_python.txt', 'w') as file:\n",
        "  celda = CeldaSimple()\n",
        "\n",
        "  for i in range(2, 40):\n",
        "      for j in range(15):\n",
        "          celda.Inicializar(i)\n",
        "          t = time.perf_counter()\n",
        "          while not celda.Cortocircuito():\n",
        "              celda.RayoCosmico(random.randint(0, i - 1), random.randint(0, i - 1))\n",
        "          t = time.perf_counter() - t\n",
        "          print(i, j, t)\n",
        "          file.write(f\"{i} {t}\\n\")"
      ],
      "metadata": {
        "id": "JmxGh4Mo3Bt6"
      },
      "execution_count": null,
      "outputs": []
    },
    {
      "cell_type": "code",
      "source": [
        "import numpy as np\n",
        "from numba import njit, prange\n",
        "import random\n",
        "import time\n",
        "import concurrent.futures\n",
        "\n",
        "class CeldaSimple:\n",
        "    def __init__(self):\n",
        "        self.grid = None\n",
        "        self.visited = None\n",
        "        self.iterations = 0\n",
        "\n",
        "    def Inicializar(self, n):\n",
        "        self.grid = np.full((n, n), False, dtype=np.bool_)\n",
        "        self.visited = np.full((n, n), False, dtype=np.bool_)\n",
        "\n",
        "    def RayoCosmico(self, i, j):\n",
        "        if not self.grid[i][j]:\n",
        "            self.grid[i][j] = True\n",
        "        self.iterations += 1\n",
        "\n",
        "    def helper(self, i, j):\n",
        "        return _helper_numba(self.grid, self.visited, i, j)\n",
        "\n",
        "    def Cortocircuito(self):\n",
        "        return _cortocircuito_numba(self.grid, self.visited)\n",
        "\n",
        "    def __str__(self):\n",
        "        out = \"\"\n",
        "        for i in range(self.grid.shape[0]):\n",
        "            for j in range(self.grid.shape[1]):\n",
        "                out += \"X\" if self.grid[i][j] else \".\"\n",
        "                if j < self.grid.shape[1] - 1:\n",
        "                    out += \" \"\n",
        "            out += \"\\n\"\n",
        "        return out\n",
        "\n",
        "@njit\n",
        "def _helper_numba(grid, visited, i, j):\n",
        "    if i == grid.shape[0] - 1:\n",
        "        return True\n",
        "    visited[i][j] = True\n",
        "    nei = [\n",
        "        (max(0, i - 1), j), (min(grid.shape[0] - 1, i + 1), j),\n",
        "        (i, max(0, j - 1)), (i, min(grid.shape[1] - 1, j + 1)),\n",
        "        (max(0, i - 1), max(0, j - 1)),\n",
        "        (min(grid.shape[0] - 1, i + 1), min(grid.shape[1] - 1, j + 1)),\n",
        "        (max(0, i - 1), min(grid.shape[1] - 1, j + 1)),\n",
        "        (min(grid.shape[0] - 1, i + 1), max(0, j - 1))\n",
        "    ]\n",
        "\n",
        "    for k in nei:\n",
        "        if not visited[k[0]][k[1]] and grid[k[0]][k[1]]:\n",
        "            if _helper_numba(grid, visited, k[0], k[1]):\n",
        "                return True\n",
        "    return False\n",
        "\n",
        "@njit(parallel=True)\n",
        "def _cortocircuito_numba(grid, visited):\n",
        "    for i in prange(grid.shape[0]):\n",
        "        for j in prange(grid.shape[1]):\n",
        "            visited[i][j] = False\n",
        "\n",
        "    for i in prange(grid.shape[1]):\n",
        "        if grid[0][i]:\n",
        "            if _helper_numba(grid, visited, 0, i):\n",
        "                return True\n",
        "    return False\n",
        "\n",
        "def simulation_run(params):\n",
        "    i, j = params\n",
        "    celda = CeldaSimple()\n",
        "    celda.Inicializar(i)\n",
        "    t = time.perf_counter()\n",
        "    while not celda.Cortocircuito():\n",
        "        celda.RayoCosmico(random.randint(0, i - 1), random.randint(0, i - 1))\n",
        "    t = time.perf_counter() - t\n",
        "    print(i, j, t)\n",
        "    return f\"{i} {t}\\n\"\n",
        "\n",
        "with open('t_values_python.txt', 'w') as file:\n",
        "    with concurrent.futures.ThreadPoolExecutor() as executor:\n",
        "        params = [(i, j) for i in range(2, 40) for j in range(15)]\n",
        "        results = executor.map(simulation_run, params)\n",
        "\n",
        "        file.writelines(results)"
      ],
      "metadata": {
        "id": "twfy-S_vMtOR"
      },
      "execution_count": null,
      "outputs": []
    }
  ]
}