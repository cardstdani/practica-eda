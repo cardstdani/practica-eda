{
  "nbformat": 4,
  "nbformat_minor": 0,
  "metadata": {
    "colab": {
      "provenance": [],
      "authorship_tag": "ABX9TyMp/EccjGJfThulcQkuvOH/",
      "include_colab_link": true
    },
    "kernelspec": {
      "name": "python3",
      "display_name": "Python 3"
    },
    "language_info": {
      "name": "python"
    }
  },
  "cells": [
    {
      "cell_type": "markdown",
      "metadata": {
        "id": "view-in-github",
        "colab_type": "text"
      },
      "source": [
        "<a href=\"https://colab.research.google.com/github/cardstdani/practica-eda/blob/main/NotebookEDA.ipynb\" target=\"_parent\"><img src=\"https://colab.research.google.com/assets/colab-badge.svg\" alt=\"Open In Colab\"/></a>"
      ]
    },
    {
      "cell_type": "markdown",
      "source": [
        "**Práctica 1**"
      ],
      "metadata": {
        "id": "osqevwI0xkWl"
      }
    },
    {
      "cell_type": "code",
      "source": [
        "!nvidia-smi"
      ],
      "metadata": {
        "colab": {
          "base_uri": "https://localhost:8080/"
        },
        "id": "bRuBRvs6NeRO",
        "outputId": "fefcb0ce-1394-4c1e-9110-52376b15d603"
      },
      "execution_count": null,
      "outputs": [
        {
          "output_type": "stream",
          "name": "stdout",
          "text": [
            "Sun Oct  1 17:10:31 2023       \n",
            "+-----------------------------------------------------------------------------+\n",
            "| NVIDIA-SMI 525.105.17   Driver Version: 525.105.17   CUDA Version: 12.0     |\n",
            "|-------------------------------+----------------------+----------------------+\n",
            "| GPU  Name        Persistence-M| Bus-Id        Disp.A | Volatile Uncorr. ECC |\n",
            "| Fan  Temp  Perf  Pwr:Usage/Cap|         Memory-Usage | GPU-Util  Compute M. |\n",
            "|                               |                      |               MIG M. |\n",
            "|===============================+======================+======================|\n",
            "|   0  Tesla T4            Off  | 00000000:00:04.0 Off |                    0 |\n",
            "| N/A   48C    P8     9W /  70W |      0MiB / 15360MiB |      0%      Default |\n",
            "|                               |                      |                  N/A |\n",
            "+-------------------------------+----------------------+----------------------+\n",
            "                                                                               \n",
            "+-----------------------------------------------------------------------------+\n",
            "| Processes:                                                                  |\n",
            "|  GPU   GI   CI        PID   Type   Process name                  GPU Memory |\n",
            "|        ID   ID                                                   Usage      |\n",
            "|=============================================================================|\n",
            "|  No running processes found                                                 |\n",
            "+-----------------------------------------------------------------------------+\n"
          ]
        }
      ]
    },
    {
      "cell_type": "code",
      "source": [
        "import random\n",
        "import time\n",
        "import matplotlib.pyplot as plt\n",
        "import concurrent.futures"
      ],
      "metadata": {
        "id": "5I-_J72_3SIj"
      },
      "execution_count": 1,
      "outputs": []
    },
    {
      "cell_type": "code",
      "execution_count": 3,
      "metadata": {
        "colab": {
          "base_uri": "https://localhost:8080/"
        },
        "id": "QG-pb_izxgEs",
        "outputId": "b8162e68-91b4-4a57-945d-94186fa01f2a"
      },
      "outputs": [
        {
          "output_type": "stream",
          "name": "stdout",
          "text": [
            "¿Validación? [S/N] S\n",
            "Tamaño (n) = 10\n",
            "#\n",
            "Tiempo medio = 0.01157\n",
            "Número de rayos = 88\n",
            ". X . X X . . . X .\n",
            "X . . . . X X X X X\n",
            ". . X X X X X X X .\n",
            "X X X X . . . . X X\n",
            "X X X X . . X . X X\n",
            "X X . X X . X . . X\n",
            "X . . X X . . . . X\n",
            "X X X . . X X . X X\n",
            "X X X X X . . . . X\n",
            ". X X X . X X . . .\n",
            "\n"
          ]
        }
      ],
      "source": [
        "class CeldaSimple:\n",
        "    def __init__(self):\n",
        "        self.grid = None\n",
        "        self.visited = None\n",
        "        self.iterations = 0\n",
        "\n",
        "    def Inicializar(self, n):\n",
        "        self.grid = [[False] * n for _ in range(n)]\n",
        "        self.visited = [[False] * n for _ in range(n)]\n",
        "\n",
        "    def RayoCosmico(self, i, j):\n",
        "        if not self.grid[i][j]:\n",
        "            self.grid[i][j] = True\n",
        "        self.iterations += 1\n",
        "\n",
        "    def helper(self, i, j):\n",
        "        if i == (len(self.grid) - 1):\n",
        "            return True\n",
        "        self.visited[i][j] = True\n",
        "        nei = [\n",
        "            [max(0, i - 1), j], [min(len(self.grid) - 1, i + 1), j],\n",
        "            [i, max(0, j - 1)], [i, min(len(self.grid[0]) - 1, j + 1)],\n",
        "            [max(0, i - 1), max(0, j - 1)],\n",
        "            [min(len(self.grid) - 1, i + 1), min(len(self.grid[0]) - 1, j + 1)],\n",
        "            [max(0, i - 1), min(len(self.grid[0]) - 1, j + 1)],\n",
        "            [min(len(self.grid) - 1, i + 1), max(0, j - 1)]\n",
        "        ]\n",
        "\n",
        "        for k in nei:\n",
        "            if not self.visited[k[0]][k[1]] and self.grid[k[0]][k[1]]:\n",
        "                if self.helper(k[0], k[1]):\n",
        "                    return True\n",
        "        return False\n",
        "\n",
        "    def Cortocircuito(self):\n",
        "        for i in range(len(self.grid)):\n",
        "            for j in range(len(self.grid[0])):\n",
        "                self.visited[i][j] = False\n",
        "\n",
        "        for i in range(len(self.grid[0])):\n",
        "            if self.grid[0][i]:\n",
        "                if self.helper(0, i):\n",
        "                    return True\n",
        "        return False\n",
        "\n",
        "    def __str__(self):\n",
        "        out = \"\"\n",
        "\n",
        "        for i in range(len(self.grid)):\n",
        "            for j in range(len(self.grid[0])):\n",
        "                out += \"X\" if self.grid[i][j] else \".\"\n",
        "                if j < len(self.grid[0]) - 1:\n",
        "                    out += \" \"\n",
        "            out += \"\\n\"\n",
        "\n",
        "        return out\n",
        "\n",
        "SEMILLA = 42\n",
        "def main():\n",
        "    random.seed(SEMILLA)\n",
        "    print(\"¿Validación? [S/N] \", end='')\n",
        "    validar = input().strip().upper().startswith('S')\n",
        "    print(\"Tamaño (n) = \", end='')\n",
        "    n = int(input())\n",
        "    num_rep = 1\n",
        "    if not validar:\n",
        "        print(\"Repeticiones = \", end='')\n",
        "        num_rep = int(input())\n",
        "\n",
        "    celda = CeldaSimple()\n",
        "    tpo_total = 0\n",
        "    num_rayos = 0\n",
        "\n",
        "    for k in range(num_rep):\n",
        "        # Simulación\n",
        "        celda.Inicializar(n)\n",
        "        num_rayos = 0\n",
        "        tpo1 = time.perf_counter()\n",
        "        while not celda.Cortocircuito():\n",
        "            # Elegir átomo al azar y transmutarlo\n",
        "            celda.RayoCosmico(random.randint(0, n - 1), random.randint(0, n - 1))\n",
        "            num_rayos += 1\n",
        "        tpo2 = time.perf_counter()\n",
        "        tpo_total += tpo2 - tpo1\n",
        "        print(\"#\", end='')\n",
        "\n",
        "    print(\"\\nTiempo medio = {:.5f}\".format(tpo_total / num_rep))\n",
        "\n",
        "    if validar:\n",
        "        print(\"Número de rayos =\", num_rayos)\n",
        "        print(celda)\n",
        "\n",
        "if __name__ == \"__main__\":\n",
        "    main()"
      ]
    },
    {
      "cell_type": "markdown",
      "source": [
        "**Simulación específica**"
      ],
      "metadata": {
        "id": "aJvheVKzCVlG"
      }
    },
    {
      "cell_type": "code",
      "source": [
        "celda = CeldaSimple()\n",
        "y = []\n",
        "n = 7\n",
        "\n",
        "random.seed()\n",
        "for k in range(10000):\n",
        "    celda.Inicializar(n)\n",
        "    num_rayos = 0\n",
        "    while not celda.Cortocircuito():\n",
        "        # Elegir átomo al azar y transmutarlo\n",
        "        celda.RayoCosmico(random.randint(0, n - 1), random.randint(0, n - 1))\n",
        "        num_rayos += 1\n",
        "    #print(num_rayos)\n",
        "    y.append(num_rayos)\n",
        "\n",
        "plt.hist(y, edgecolor='black')\n",
        "plt.title('Distribution of num_rayos')\n",
        "plt.xlabel('num_rayos')\n",
        "plt.ylabel('Frequency')\n",
        "plt.show()\n",
        "print(sorted(y)[-10:])"
      ],
      "metadata": {
        "colab": {
          "base_uri": "https://localhost:8080/",
          "height": 489
        },
        "id": "_AKtGfdpCVLS",
        "outputId": "00796e39-367e-4323-d62b-4ab49805ff26"
      },
      "execution_count": 14,
      "outputs": [
        {
          "output_type": "display_data",
          "data": {
            "text/plain": [
              "<Figure size 640x480 with 1 Axes>"
            ],
            "image/png": "[encoded data removed]"
          },
          "metadata": {}
        },
        {
          "output_type": "stream",
          "name": "stdout",
          "text": [
            "[69, 70, 70, 71, 74, 75, 78, 80, 81, 82]\n"
          ]
        }
      ]
    },
    {
      "cell_type": "markdown",
      "source": [
        "**Medidas Tiempo**"
      ],
      "metadata": {
        "id": "Y9S2WgpO2r9u"
      }
    },
    {
      "cell_type": "code",
      "source": [
        "with open('t_values_python.txt', 'w') as file:\n",
        "  celda = CeldaSimple()\n",
        "\n",
        "  for i in range(2, 40):\n",
        "      for j in range(15):\n",
        "          celda.Inicializar(i)\n",
        "          t = time.perf_counter()\n",
        "          while not celda.Cortocircuito():\n",
        "              celda.RayoCosmico(random.randint(0, i - 1), random.randint(0, i - 1))\n",
        "          t = time.perf_counter() - t\n",
        "          print(i, j, t)\n",
        "          file.write(f\"{i} {t}\\n\")"
      ],
      "metadata": {
        "id": "JmxGh4Mo3Bt6"
      },
      "execution_count": null,
      "outputs": []
    },
    {
      "cell_type": "code",
      "source": [
        "import numpy as np\n",
        "from numba import njit, prange\n",
        "import random\n",
        "import time\n",
        "import concurrent.futures\n",
        "\n",
        "class CeldaSimple:\n",
        "    def __init__(self):\n",
        "        self.grid = None\n",
        "        self.visited = None\n",
        "        self.iterations = 0\n",
        "\n",
        "    def Inicializar(self, n):\n",
        "        self.grid = np.full((n, n), False, dtype=np.bool_)\n",
        "        self.visited = np.full((n, n), False, dtype=np.bool_)\n",
        "\n",
        "    def RayoCosmico(self, i, j):\n",
        "        if not self.grid[i][j]:\n",
        "            self.grid[i][j] = True\n",
        "        self.iterations += 1\n",
        "\n",
        "    def helper(self, i, j):\n",
        "        return _helper_numba(self.grid, self.visited, i, j)\n",
        "\n",
        "    def Cortocircuito(self):\n",
        "        return _cortocircuito_numba(self.grid, self.visited)\n",
        "\n",
        "    def __str__(self):\n",
        "        out = \"\"\n",
        "        for i in range(self.grid.shape[0]):\n",
        "            for j in range(self.grid.shape[1]):\n",
        "                out += \"X\" if self.grid[i][j] else \".\"\n",
        "                if j < self.grid.shape[1] - 1:\n",
        "                    out += \" \"\n",
        "            out += \"\\n\"\n",
        "        return out\n",
        "\n",
        "@njit\n",
        "def _helper_numba(grid, visited, i, j):\n",
        "    if i == grid.shape[0] - 1:\n",
        "        return True\n",
        "    visited[i][j] = True\n",
        "    nei = [\n",
        "        (max(0, i - 1), j), (min(grid.shape[0] - 1, i + 1), j),\n",
        "        (i, max(0, j - 1)), (i, min(grid.shape[1] - 1, j + 1)),\n",
        "        (max(0, i - 1), max(0, j - 1)),\n",
        "        (min(grid.shape[0] - 1, i + 1), min(grid.shape[1] - 1, j + 1)),\n",
        "        (max(0, i - 1), min(grid.shape[1] - 1, j + 1)),\n",
        "        (min(grid.shape[0] - 1, i + 1), max(0, j - 1))\n",
        "    ]\n",
        "\n",
        "    for k in nei:\n",
        "        if not visited[k[0]][k[1]] and grid[k[0]][k[1]]:\n",
        "            if _helper_numba(grid, visited, k[0], k[1]):\n",
        "                return True\n",
        "    return False\n",
        "\n",
        "@njit(parallel=True)\n",
        "def _cortocircuito_numba(grid, visited):\n",
        "    for i in prange(grid.shape[0]):\n",
        "        for j in prange(grid.shape[1]):\n",
        "            visited[i][j] = False\n",
        "\n",
        "    for i in prange(grid.shape[1]):\n",
        "        if grid[0][i]:\n",
        "            if _helper_numba(grid, visited, 0, i):\n",
        "                return True\n",
        "    return False\n",
        "\n",
        "def simulation_run(params):\n",
        "    i, j = params\n",
        "    celda = CeldaSimple()\n",
        "    celda.Inicializar(i)\n",
        "    t = time.perf_counter()\n",
        "    while not celda.Cortocircuito():\n",
        "        celda.RayoCosmico(random.randint(0, i - 1), random.randint(0, i - 1))\n",
        "    t = time.perf_counter() - t\n",
        "    print(i, j, t)\n",
        "    return f\"{i} {t}\\n\"\n",
        "\n",
        "with open('t_values_python.txt', 'w') as file:\n",
        "    with concurrent.futures.ThreadPoolExecutor() as executor:\n",
        "        params = [(i, j) for i in range(2, 40) for j in range(15)]\n",
        "        results = executor.map(simulation_run, params)\n",
        "\n",
        "        file.writelines(results)"
      ],
      "metadata": {
        "id": "twfy-S_vMtOR"
      },
      "execution_count": null,
      "outputs": []
    }
  ]
}